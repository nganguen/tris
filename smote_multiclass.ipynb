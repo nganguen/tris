{
 "cells": [
  {
   "cell_type": "code",
   "execution_count": 44,
   "metadata": {},
   "outputs": [],
   "source": [
    "import numpy as np\n",
    "import pandas as pd\n",
    "import tensorflow as tf\n",
    "import matplotlib.pyplot as plt\n",
    "import seaborn as sns\n",
    "from datetime import datetime\n",
    "import multiprocessing\n",
    "\n",
    "from sklearn.linear_model import LogisticRegression\n",
    "from sklearn.ensemble import RandomForestClassifier\n",
    "from sklearn import svm\n",
    "from sklearn.ensemble import AdaBoostClassifier\n",
    "from sklearn.neighbors import KNeighborsClassifier\n",
    "from sklearn.naive_bayes import GaussianNB\n",
    "import sklearn.neural_network\n",
    "from sklearn.preprocessing import LabelEncoder, StandardScaler\n",
    "\n",
    "from sklearn.model_selection import train_test_split\n",
    "from sklearn.metrics import confusion_matrix, r2_score, mean_squared_error\n",
    "from sklearn.metrics import precision_score, recall_score, f1_score, roc_auc_score, accuracy_score, classification_report, precision_recall_curve\n",
    "import warnings\n",
    "warnings.filterwarnings(\"ignore\")\n",
    "\n",
    "from prettytable import PrettyTable\n",
    "\n",
    "from sklearn.metrics import plot_confusion_matrix\n",
    "import matplotlib.pyplot as plt"
   ]
  },
  {
   "cell_type": "code",
   "execution_count": 45,
   "metadata": {},
   "outputs": [
    {
     "data": {
      "text/html": [
       "<div>\n",
       "<style scoped>\n",
       "    .dataframe tbody tr th:only-of-type {\n",
       "        vertical-align: middle;\n",
       "    }\n",
       "\n",
       "    .dataframe tbody tr th {\n",
       "        vertical-align: top;\n",
       "    }\n",
       "\n",
       "    .dataframe thead th {\n",
       "        text-align: right;\n",
       "    }\n",
       "</style>\n",
       "<table border=\"1\" class=\"dataframe\">\n",
       "  <thead>\n",
       "    <tr style=\"text-align: right;\">\n",
       "      <th></th>\n",
       "      <th>duration</th>\n",
       "      <th>protocoltype</th>\n",
       "      <th>service</th>\n",
       "      <th>flag</th>\n",
       "      <th>srcbytes</th>\n",
       "      <th>dstbytes</th>\n",
       "      <th>land</th>\n",
       "      <th>wrongfragment</th>\n",
       "      <th>urgent</th>\n",
       "      <th>hot</th>\n",
       "      <th>...</th>\n",
       "      <th>dsthostsamesrvrate</th>\n",
       "      <th>dsthostdiffsrvrate</th>\n",
       "      <th>dsthostsamesrcportrate</th>\n",
       "      <th>dsthostsrvdiffhostrate</th>\n",
       "      <th>dsthostserrorrate</th>\n",
       "      <th>dsthostsrvserrorrate</th>\n",
       "      <th>dsthostrerrorrate</th>\n",
       "      <th>dsthostsrvrerrorrate</th>\n",
       "      <th>attack</th>\n",
       "      <th>lastflag</th>\n",
       "    </tr>\n",
       "  </thead>\n",
       "  <tbody>\n",
       "    <tr>\n",
       "      <th>0</th>\n",
       "      <td>0</td>\n",
       "      <td>tcp</td>\n",
       "      <td>ftp_data</td>\n",
       "      <td>SF</td>\n",
       "      <td>491</td>\n",
       "      <td>0</td>\n",
       "      <td>0</td>\n",
       "      <td>0</td>\n",
       "      <td>0</td>\n",
       "      <td>0</td>\n",
       "      <td>...</td>\n",
       "      <td>0.17</td>\n",
       "      <td>0.03</td>\n",
       "      <td>0.17</td>\n",
       "      <td>0.00</td>\n",
       "      <td>0.00</td>\n",
       "      <td>0.00</td>\n",
       "      <td>0.05</td>\n",
       "      <td>0.00</td>\n",
       "      <td>normal</td>\n",
       "      <td>20</td>\n",
       "    </tr>\n",
       "    <tr>\n",
       "      <th>1</th>\n",
       "      <td>0</td>\n",
       "      <td>udp</td>\n",
       "      <td>other</td>\n",
       "      <td>SF</td>\n",
       "      <td>146</td>\n",
       "      <td>0</td>\n",
       "      <td>0</td>\n",
       "      <td>0</td>\n",
       "      <td>0</td>\n",
       "      <td>0</td>\n",
       "      <td>...</td>\n",
       "      <td>0.00</td>\n",
       "      <td>0.60</td>\n",
       "      <td>0.88</td>\n",
       "      <td>0.00</td>\n",
       "      <td>0.00</td>\n",
       "      <td>0.00</td>\n",
       "      <td>0.00</td>\n",
       "      <td>0.00</td>\n",
       "      <td>normal</td>\n",
       "      <td>15</td>\n",
       "    </tr>\n",
       "    <tr>\n",
       "      <th>2</th>\n",
       "      <td>0</td>\n",
       "      <td>tcp</td>\n",
       "      <td>private</td>\n",
       "      <td>S0</td>\n",
       "      <td>0</td>\n",
       "      <td>0</td>\n",
       "      <td>0</td>\n",
       "      <td>0</td>\n",
       "      <td>0</td>\n",
       "      <td>0</td>\n",
       "      <td>...</td>\n",
       "      <td>0.10</td>\n",
       "      <td>0.05</td>\n",
       "      <td>0.00</td>\n",
       "      <td>0.00</td>\n",
       "      <td>1.00</td>\n",
       "      <td>1.00</td>\n",
       "      <td>0.00</td>\n",
       "      <td>0.00</td>\n",
       "      <td>neptune</td>\n",
       "      <td>19</td>\n",
       "    </tr>\n",
       "    <tr>\n",
       "      <th>3</th>\n",
       "      <td>0</td>\n",
       "      <td>tcp</td>\n",
       "      <td>http</td>\n",
       "      <td>SF</td>\n",
       "      <td>232</td>\n",
       "      <td>8153</td>\n",
       "      <td>0</td>\n",
       "      <td>0</td>\n",
       "      <td>0</td>\n",
       "      <td>0</td>\n",
       "      <td>...</td>\n",
       "      <td>1.00</td>\n",
       "      <td>0.00</td>\n",
       "      <td>0.03</td>\n",
       "      <td>0.04</td>\n",
       "      <td>0.03</td>\n",
       "      <td>0.01</td>\n",
       "      <td>0.00</td>\n",
       "      <td>0.01</td>\n",
       "      <td>normal</td>\n",
       "      <td>21</td>\n",
       "    </tr>\n",
       "    <tr>\n",
       "      <th>4</th>\n",
       "      <td>0</td>\n",
       "      <td>tcp</td>\n",
       "      <td>http</td>\n",
       "      <td>SF</td>\n",
       "      <td>199</td>\n",
       "      <td>420</td>\n",
       "      <td>0</td>\n",
       "      <td>0</td>\n",
       "      <td>0</td>\n",
       "      <td>0</td>\n",
       "      <td>...</td>\n",
       "      <td>1.00</td>\n",
       "      <td>0.00</td>\n",
       "      <td>0.00</td>\n",
       "      <td>0.00</td>\n",
       "      <td>0.00</td>\n",
       "      <td>0.00</td>\n",
       "      <td>0.00</td>\n",
       "      <td>0.00</td>\n",
       "      <td>normal</td>\n",
       "      <td>21</td>\n",
       "    </tr>\n",
       "  </tbody>\n",
       "</table>\n",
       "<p>5 rows × 43 columns</p>\n",
       "</div>"
      ],
      "text/plain": [
       "   duration protocoltype   service flag  srcbytes  dstbytes  land  \\\n",
       "0         0          tcp  ftp_data   SF       491         0     0   \n",
       "1         0          udp     other   SF       146         0     0   \n",
       "2         0          tcp   private   S0         0         0     0   \n",
       "3         0          tcp      http   SF       232      8153     0   \n",
       "4         0          tcp      http   SF       199       420     0   \n",
       "\n",
       "   wrongfragment  urgent  hot  ...  dsthostsamesrvrate  dsthostdiffsrvrate  \\\n",
       "0              0       0    0  ...                0.17                0.03   \n",
       "1              0       0    0  ...                0.00                0.60   \n",
       "2              0       0    0  ...                0.10                0.05   \n",
       "3              0       0    0  ...                1.00                0.00   \n",
       "4              0       0    0  ...                1.00                0.00   \n",
       "\n",
       "   dsthostsamesrcportrate  dsthostsrvdiffhostrate  dsthostserrorrate  \\\n",
       "0                    0.17                    0.00               0.00   \n",
       "1                    0.88                    0.00               0.00   \n",
       "2                    0.00                    0.00               1.00   \n",
       "3                    0.03                    0.04               0.03   \n",
       "4                    0.00                    0.00               0.00   \n",
       "\n",
       "   dsthostsrvserrorrate  dsthostrerrorrate  dsthostsrvrerrorrate   attack  \\\n",
       "0                  0.00               0.05                  0.00   normal   \n",
       "1                  0.00               0.00                  0.00   normal   \n",
       "2                  1.00               0.00                  0.00  neptune   \n",
       "3                  0.01               0.00                  0.01   normal   \n",
       "4                  0.00               0.00                  0.00   normal   \n",
       "\n",
       "   lastflag  \n",
       "0        20  \n",
       "1        15  \n",
       "2        19  \n",
       "3        21  \n",
       "4        21  \n",
       "\n",
       "[5 rows x 43 columns]"
      ]
     },
     "execution_count": 45,
     "metadata": {},
     "output_type": "execute_result"
    }
   ],
   "source": [
    "df = pd.read_csv(\"data_traffic.txt\",sep=\",\",names=[\"duration\",\"protocoltype\",\"service\",\"flag\",\"srcbytes\",\"dstbytes\",\"land\", \"wrongfragment\",\"urgent\",\"hot\",\"numfailedlogins\",\"loggedin\", \"numcompromised\",\"rootshell\",\"suattempted\",\"numroot\",\"numfilecreations\", \"numshells\",\"numaccessfiles\",\"numoutboundcmds\",\"ishostlogin\",\n",
    "\"isguestlogin\",\"count\",\"srvcount\",\"serrorrate\", \"srvserrorrate\",\n",
    "\"rerrorrate\",\"srvrerrorrate\",\"samesrvrate\", \"diffsrvrate\", \"srvdiffhostrate\",\"dsthostcount\",\"dsthostsrvcount\",\"dsthostsamesrvrate\", \"dsthostdiffsrvrate\",\"dsthostsamesrcportrate\",\n",
    "\"dsthostsrvdiffhostrate\",\"dsthostserrorrate\",\"dsthostsrvserrorrate\",\n",
    "\"dsthostrerrorrate\",\"dsthostsrvrerrorrate\",\"attack\", \"lastflag\"])\n",
    "df.head()"
   ]
  },
  {
   "cell_type": "code",
   "execution_count": 46,
   "metadata": {},
   "outputs": [],
   "source": [
    "df.drop(['land','urgent','numfailedlogins','numoutboundcmds'],axis=1,inplace=True)"
   ]
  },
  {
   "cell_type": "code",
   "execution_count": 47,
   "metadata": {},
   "outputs": [
    {
     "name": "stdout",
     "output_type": "stream",
     "text": [
      "protocoltype \n",
      "\n",
      "tcp     121569\n",
      "udp      17614\n",
      "icmp      9334\n",
      "Name: protocoltype, dtype: int64\n",
      "------------------------------------------------------------------\n",
      "service \n",
      "\n",
      "http         48191\n",
      "private      26627\n",
      "domain_u      9937\n",
      "smtp          8247\n",
      "ftp_data      7711\n",
      "             ...  \n",
      "tftp_u           4\n",
      "harvest          2\n",
      "http_8001        2\n",
      "aol              2\n",
      "http_2784        1\n",
      "Name: service, Length: 70, dtype: int64\n",
      "------------------------------------------------------------------\n",
      "flag \n",
      "\n",
      "SF        89820\n",
      "S0        36864\n",
      "REJ       15083\n",
      "RSTR       3090\n",
      "RSTO       2335\n",
      "S1          386\n",
      "SH          344\n",
      "S3          298\n",
      "S2          142\n",
      "RSTOS0      105\n",
      "OTH          50\n",
      "Name: flag, dtype: int64\n",
      "------------------------------------------------------------------\n",
      "attack \n",
      "\n",
      "normal             77054\n",
      "neptune            45871\n",
      "satan               4368\n",
      "ipsweep             3740\n",
      "smurf               3311\n",
      "portsweep           3088\n",
      "nmap                1566\n",
      "back                1315\n",
      "guess_passwd        1284\n",
      "mscan                996\n",
      "warezmaster          964\n",
      "teardrop             904\n",
      "warezclient          890\n",
      "apache2              737\n",
      "processtable         685\n",
      "snmpguess            331\n",
      "saint                319\n",
      "mailbomb             293\n",
      "pod                  242\n",
      "snmpgetattack        178\n",
      "httptunnel           133\n",
      "buffer_overflow       50\n",
      "multihop              25\n",
      "land                  25\n",
      "rootkit               23\n",
      "named                 17\n",
      "ps                    15\n",
      "sendmail              14\n",
      "xterm                 13\n",
      "imap                  12\n",
      "ftp_write             11\n",
      "loadmodule            11\n",
      "xlock                  9\n",
      "phf                    6\n",
      "perl                   5\n",
      "xsnoop                 4\n",
      "worm                   2\n",
      "spy                    2\n",
      "sqlattack              2\n",
      "udpstorm               2\n",
      "Name: attack, dtype: int64\n",
      "------------------------------------------------------------------\n"
     ]
    }
   ],
   "source": [
    "categories_col = [n for n in df.columns if df[n].dtypes == 'object']\n",
    "for column in categories_col:\n",
    "    print(column, '\\n')\n",
    "    print(df[column].value_counts())\n",
    "    print(\"------------------------------------------------------------------\")"
   ]
  },
  {
   "cell_type": "code",
   "execution_count": 48,
   "metadata": {},
   "outputs": [],
   "source": [
    "df['attack']=np.where(df['attack'] =='back', 'dos', df['attack'])\n",
    "df['attack']=np.where(df['attack'] =='land', 'dos', df['attack'])\n",
    "df['attack']=np.where(df['attack'] =='neptune', 'dos', df['attack'])\n",
    "df['attack']=np.where(df['attack'] =='pod', 'dos', df['attack'])\n",
    "df['attack']=np.where(df['attack'] =='smurf', 'dos', df['attack'])\n",
    "df['attack']=np.where(df['attack'] =='teardrop', 'dos', df['attack'])\n",
    "df['attack']=np.where(df['attack'] =='apache2', 'dos', df['attack'])\n",
    "df['attack']=np.where(df['attack'] =='udpstorm', 'dos', df['attack'])\n",
    "df['attack']=np.where(df['attack'] =='processtable', 'dos', df['attack'])\n",
    "df['attack']=np.where(df['attack'] =='worm', 'dos', df['attack'])"
   ]
  },
  {
   "cell_type": "code",
   "execution_count": 49,
   "metadata": {},
   "outputs": [],
   "source": [
    "df['attack']=np.where(df['attack'] =='satan', 'probe', df['attack'])\n",
    "df['attack']=np.where(df['attack'] =='ipsweep', 'probe', df['attack'])\n",
    "df['attack']=np.where(df['attack'] =='nmap', 'probe', df['attack'])\n",
    "df['attack']=np.where(df['attack'] =='portsweep', 'probe', df['attack'])\n",
    "df['attack']=np.where(df['attack'] =='mscan', 'probe', df['attack'])\n",
    "df['attack']=np.where(df['attack'] =='saint', 'probe', df['attack'])"
   ]
  },
  {
   "cell_type": "code",
   "execution_count": 50,
   "metadata": {},
   "outputs": [],
   "source": [
    "df['attack']=np.where(df['attack'] =='guess_passwd', 'r2l', df['attack'])\n",
    "df['attack']=np.where(df['attack'] =='ftp_write', 'r2l', df['attack'])\n",
    "df['attack']=np.where(df['attack'] =='imap', 'r2l', df['attack'])\n",
    "df['attack']=np.where(df['attack'] =='phf', 'r2l', df['attack'])\n",
    "df['attack']=np.where(df['attack'] =='multihop', 'r2l', df['attack'])\n",
    "df['attack']=np.where(df['attack'] =='warezmaster', 'r2l', df['attack'])\n",
    "df['attack']=np.where(df['attack'] =='warezclient', 'r2l', df['attack'])\n",
    "df['attack']=np.where(df['attack'] =='spy', 'r2l', df['attack'])\n",
    "df['attack']=np.where(df['attack'] =='xlock', 'r2l', df['attack'])\n",
    "df['attack']=np.where(df['attack'] =='xsnoop', 'r2l', df['attack'])\n",
    "df['attack']=np.where(df['attack'] =='snmpguess', 'r2l', df['attack'])\n",
    "df['attack']=np.where(df['attack'] =='snmpgetattack', 'r2l', df['attack'])\n",
    "df['attack']=np.where(df['attack'] =='httptunnel', 'r2l', df['attack'])\n",
    "df['attack']=np.where(df['attack'] =='sendmail', 'r2l', df['attack'])\n",
    "df['attack']=np.where(df['attack'] =='named', 'r2l', df['attack'])\n",
    "df['attack']=np.where(df['attack'] =='mailbomb', 'r2l', df['attack'])"
   ]
  },
  {
   "cell_type": "code",
   "execution_count": 51,
   "metadata": {},
   "outputs": [],
   "source": [
    "df['attack']=np.where(df['attack'] =='buffer_overflow', 'u2r', df['attack'])\n",
    "df['attack']=np.where(df['attack'] =='loadmodule', 'u2r', df['attack'])\n",
    "df['attack']=np.where(df['attack'] =='rootkit', 'u2r', df['attack'])\n",
    "df['attack']=np.where(df['attack'] =='perl', 'u2r', df['attack'])\n",
    "df['attack']=np.where(df['attack'] =='sqlattack', 'u2r', df['attack'])\n",
    "df['attack']=np.where(df['attack'] =='xterm', 'u2r', df['attack'])\n",
    "df['attack']=np.where(df['attack'] =='ps', 'u2r', df['attack'])"
   ]
  },
  {
   "cell_type": "markdown",
   "metadata": {},
   "source": [
    "Классификация по 4 группам"
   ]
  },
  {
   "cell_type": "code",
   "execution_count": 62,
   "metadata": {},
   "outputs": [
    {
     "data": {
      "text/plain": [
       "normal    77054\n",
       "dos       53094\n",
       "probe     14077\n",
       "r2l        4173\n",
       "u2r         119\n",
       "Name: attack, dtype: int64"
      ]
     },
     "execution_count": 62,
     "metadata": {},
     "output_type": "execute_result"
    }
   ],
   "source": [
    "df['attack'].value_counts()"
   ]
  },
  {
   "cell_type": "code",
   "execution_count": 52,
   "metadata": {},
   "outputs": [
    {
     "data": {
      "text/plain": [
       "<AxesSubplot:xlabel='attack', ylabel='count'>"
      ]
     },
     "execution_count": 52,
     "metadata": {},
     "output_type": "execute_result"
    },
    {
     "data": {
      "image/png": "[encoded data removed]",
      "text/plain": [
       "<Figure size 432x288 with 1 Axes>"
      ]
     },
     "metadata": {
      "needs_background": "light"
     },
     "output_type": "display_data"
    }
   ],
   "source": [
    "sns.countplot(df['attack'])"
   ]
  },
  {
   "cell_type": "code",
   "execution_count": 53,
   "metadata": {},
   "outputs": [],
   "source": [
    "encor=LabelEncoder()\n",
    "df['protocoltype']=encor.fit_transform(df['protocoltype'])\n",
    "df['service']=encor.fit_transform(df['service'])\n",
    "df['flag']=encor.fit_transform(df['flag'])"
   ]
  },
  {
   "cell_type": "code",
   "execution_count": 54,
   "metadata": {},
   "outputs": [],
   "source": [
    "X=df.drop(['attack'],axis=1)\n",
    "y=df['attack']"
   ]
  },
  {
   "cell_type": "code",
   "execution_count": 55,
   "metadata": {},
   "outputs": [],
   "source": [
    "scaler = StandardScaler()\n",
    "scaler.fit(X)\n",
    "X_transformed = scaler.transform(X)"
   ]
  },
  {
   "cell_type": "markdown",
   "metadata": {},
   "source": [
    "SMOTE сбалансируем данные"
   ]
  },
  {
   "cell_type": "code",
   "execution_count": 56,
   "metadata": {},
   "outputs": [],
   "source": [
    "from imblearn.over_sampling import SMOTE, ADASYN\n",
    "X_resampled, y_resampled = SMOTE().fit_resample(X, y)"
   ]
  },
  {
   "cell_type": "code",
   "execution_count": 57,
   "metadata": {},
   "outputs": [
    {
     "data": {
      "text/plain": [
       "probe     77054\n",
       "r2l       77054\n",
       "u2r       77054\n",
       "normal    77054\n",
       "dos       77054\n",
       "Name: attack, dtype: int64"
      ]
     },
     "execution_count": 57,
     "metadata": {},
     "output_type": "execute_result"
    }
   ],
   "source": [
    "y_resampled.value_counts()"
   ]
  },
  {
   "cell_type": "code",
   "execution_count": 58,
   "metadata": {},
   "outputs": [],
   "source": [
    "X_re_train,X_re_test,y_re_train,y_re_test = train_test_split(X_resampled,y_resampled, test_size = 0.3 , random_state = 0)\n"
   ]
  },
  {
   "cell_type": "code",
   "execution_count": 65,
   "metadata": {},
   "outputs": [],
   "source": [
    "def evaluate_model(model, modelname):\n",
    "    start_time = datetime.now()\n",
    "    model.fit(X_re_train, y_re_train)\n",
    "    y_re_pred = model.predict(X_re_test)\n",
    "    time = datetime.now() - start_time\n",
    "    print(modelname)\n",
    "    print(\"Time execution: \", time)\n",
    "    #print(confusion_matrix(y_re_test,y_re_pred))\n",
    "    plot_confusion_matrix(model, X_re_test, y_re_test,cmap=plt.cm.Blues)\n",
    "    print(classification_report(y_re_test,y_re_pred))"
   ]
  },
  {
   "cell_type": "markdown",
   "metadata": {},
   "source": [
    "SVM"
   ]
  },
  {
   "cell_type": "code",
   "execution_count": 70,
   "metadata": {},
   "outputs": [],
   "source": [
    "svc = svm.LinearSVC(random_state=0, loss='squared_hinge', penalty='l1', dual=False,class_weight='balanced')"
   ]
  },
  {
   "cell_type": "code",
   "execution_count": 71,
   "metadata": {},
   "outputs": [
    {
     "name": "stdout",
     "output_type": "stream",
     "text": [
      "SVM\n",
      "Time execution:  0:01:54.426166\n",
      "              precision    recall  f1-score   support\n",
      "\n",
      "         dos       0.98      0.97      0.98     23145\n",
      "      normal       0.98      0.92      0.95     23234\n",
      "       probe       0.94      0.95      0.94     23206\n",
      "         r2l       0.85      0.90      0.88     23087\n",
      "         u2r       0.90      0.90      0.90     22909\n",
      "\n",
      "    accuracy                           0.93    115581\n",
      "   macro avg       0.93      0.93      0.93    115581\n",
      "weighted avg       0.93      0.93      0.93    115581\n",
      "\n"
     ]
    },
    {
     "data": {
      "image/png": "[encoded data removed]",
      "text/plain": [
       "<Figure size 432x288 with 2 Axes>"
      ]
     },
     "metadata": {
      "needs_background": "light"
     },
     "output_type": "display_data"
    }
   ],
   "source": [
    "evaluate_model(svc, \"SVM\")"
   ]
  },
  {
   "cell_type": "markdown",
   "metadata": {},
   "source": [
    "RandomForest"
   ]
  },
  {
   "cell_type": "code",
   "execution_count": 72,
   "metadata": {},
   "outputs": [],
   "source": [
    "rf = RandomForestClassifier()"
   ]
  },
  {
   "cell_type": "code",
   "execution_count": 73,
   "metadata": {},
   "outputs": [
    {
     "name": "stdout",
     "output_type": "stream",
     "text": [
      "RandomForest\n",
      "Time execution:  0:01:12.959716\n",
      "              precision    recall  f1-score   support\n",
      "\n",
      "         dos       1.00      1.00      1.00     23145\n",
      "      normal       1.00      1.00      1.00     23234\n",
      "       probe       1.00      1.00      1.00     23206\n",
      "         r2l       1.00      1.00      1.00     23087\n",
      "         u2r       1.00      1.00      1.00     22909\n",
      "\n",
      "    accuracy                           1.00    115581\n",
      "   macro avg       1.00      1.00      1.00    115581\n",
      "weighted avg       1.00      1.00      1.00    115581\n",
      "\n"
     ]
    },
    {
     "data": {
      "image/png": "[encoded data removed]",
      "text/plain": [
       "<Figure size 432x288 with 2 Axes>"
      ]
     },
     "metadata": {
      "needs_background": "light"
     },
     "output_type": "display_data"
    }
   ],
   "source": [
    "evaluate_model(rf, \"RandomForest\")"
   ]
  },
  {
   "cell_type": "markdown",
   "metadata": {},
   "source": [
    "LogisticRegression"
   ]
  },
  {
   "cell_type": "code",
   "execution_count": 74,
   "metadata": {},
   "outputs": [],
   "source": [
    "lr = LogisticRegression(solver='liblinear', max_iter=100)"
   ]
  },
  {
   "cell_type": "code",
   "execution_count": 75,
   "metadata": {},
   "outputs": [
    {
     "name": "stdout",
     "output_type": "stream",
     "text": [
      "LogisticRegression\n",
      "Time execution:  0:01:49.742411\n",
      "              precision    recall  f1-score   support\n",
      "\n",
      "         dos       0.61      0.89      0.73     23145\n",
      "      normal       0.68      0.73      0.71     23234\n",
      "       probe       0.28      0.14      0.19     23206\n",
      "         r2l       0.69      0.59      0.64     23087\n",
      "         u2r       0.69      0.77      0.73     22909\n",
      "\n",
      "    accuracy                           0.63    115581\n",
      "   macro avg       0.59      0.63      0.60    115581\n",
      "weighted avg       0.59      0.63      0.60    115581\n",
      "\n"
     ]
    },
    {
     "data": {
      "image/png": "[encoded data removed]",
      "text/plain": [
       "<Figure size 432x288 with 2 Axes>"
      ]
     },
     "metadata": {
      "needs_background": "light"
     },
     "output_type": "display_data"
    }
   ],
   "source": [
    "evaluate_model(lr, \"LogisticRegression\")"
   ]
  },
  {
   "cell_type": "markdown",
   "metadata": {},
   "source": [
    "AdaBoost"
   ]
  },
  {
   "cell_type": "code",
   "execution_count": 76,
   "metadata": {},
   "outputs": [],
   "source": [
    "ab = AdaBoostClassifier()"
   ]
  },
  {
   "cell_type": "code",
   "execution_count": 77,
   "metadata": {},
   "outputs": [
    {
     "name": "stdout",
     "output_type": "stream",
     "text": [
      "AdaBoost\n",
      "Time execution:  0:00:56.590421\n",
      "              precision    recall  f1-score   support\n",
      "\n",
      "         dos       0.96      0.27      0.43     23145\n",
      "      normal       0.51      0.87      0.65     23234\n",
      "       probe       0.89      0.85      0.87     23206\n",
      "         r2l       0.78      0.77      0.77     23087\n",
      "         u2r       0.89      0.94      0.92     22909\n",
      "\n",
      "    accuracy                           0.74    115581\n",
      "   macro avg       0.81      0.74      0.73    115581\n",
      "weighted avg       0.80      0.74      0.73    115581\n",
      "\n"
     ]
    },
    {
     "data": {
      "image/png": "[encoded data removed]",
      "text/plain": [
       "<Figure size 432x288 with 2 Axes>"
      ]
     },
     "metadata": {
      "needs_background": "light"
     },
     "output_type": "display_data"
    }
   ],
   "source": [
    "evaluate_model(ab, \"AdaBoost\")"
   ]
  },
  {
   "cell_type": "markdown",
   "metadata": {},
   "source": [
    "neural_network"
   ]
  },
  {
   "cell_type": "code",
   "execution_count": 78,
   "metadata": {},
   "outputs": [],
   "source": [
    "neural = sklearn.neural_network.MLPClassifier()"
   ]
  },
  {
   "cell_type": "code",
   "execution_count": 79,
   "metadata": {},
   "outputs": [
    {
     "name": "stdout",
     "output_type": "stream",
     "text": [
      "MLPClassifier\n",
      "Time execution:  0:00:54.180212\n",
      "              precision    recall  f1-score   support\n",
      "\n",
      "         dos       0.97      0.97      0.97     23145\n",
      "      normal       0.90      0.92      0.91     23234\n",
      "       probe       0.93      0.94      0.93     23206\n",
      "         r2l       0.87      0.86      0.86     23087\n",
      "         u2r       0.93      0.92      0.92     22909\n",
      "\n",
      "    accuracy                           0.92    115581\n",
      "   macro avg       0.92      0.92      0.92    115581\n",
      "weighted avg       0.92      0.92      0.92    115581\n",
      "\n"
     ]
    },
    {
     "data": {
      "image/png": "[encoded data removed]",
      "text/plain": [
       "<Figure size 432x288 with 2 Axes>"
      ]
     },
     "metadata": {
      "needs_background": "light"
     },
     "output_type": "display_data"
    }
   ],
   "source": [
    "evaluate_model(neural, \"MLPClassifier\")"
   ]
  },
  {
   "cell_type": "markdown",
   "metadata": {},
   "source": [
    "KNN"
   ]
  },
  {
   "cell_type": "code",
   "execution_count": 80,
   "metadata": {},
   "outputs": [],
   "source": [
    "#Не рассматриваем, так как у алгоритм большое время обучения \n",
    "#knn = KNeighborsClassifier()\n",
    "#evaluate_model(knn, \"KNN\")"
   ]
  },
  {
   "cell_type": "markdown",
   "metadata": {},
   "source": [
    "Naive Bayes"
   ]
  },
  {
   "cell_type": "code",
   "execution_count": 81,
   "metadata": {},
   "outputs": [
    {
     "name": "stdout",
     "output_type": "stream",
     "text": [
      "Naive Bayes\n",
      "Time execution:  0:00:01.205603\n",
      "              precision    recall  f1-score   support\n",
      "\n",
      "         dos       0.24      0.96      0.38     23145\n",
      "      normal       0.07      0.01      0.01     23234\n",
      "       probe       0.60      0.06      0.12     23206\n",
      "         r2l       0.09      0.00      0.00     23087\n",
      "         u2r       0.69      0.52      0.59     22909\n",
      "\n",
      "    accuracy                           0.31    115581\n",
      "   macro avg       0.34      0.31      0.22    115581\n",
      "weighted avg       0.34      0.31      0.22    115581\n",
      "\n"
     ]
    },
    {
     "data": {
      "image/png": "[encoded data removed]",
      "text/plain": [
       "<Figure size 432x288 with 2 Axes>"
      ]
     },
     "metadata": {
      "needs_background": "light"
     },
     "output_type": "display_data"
    }
   ],
   "source": [
    "nbc = GaussianNB()\n",
    "evaluate_model(nbc, \"Naive Bayes\")"
   ]
  },
  {
   "cell_type": "code",
   "execution_count": null,
   "metadata": {},
   "outputs": [],
   "source": []
  }
 ],
 "metadata": {
  "kernelspec": {
   "display_name": "Python 3",
   "language": "python",
   "name": "python3"
  },
  "language_info": {
   "codemirror_mode": {
    "name": "ipython",
    "version": 3
   },
   "file_extension": ".py",
   "mimetype": "text/x-python",
   "name": "python",
   "nbconvert_exporter": "python",
   "pygments_lexer": "ipython3",
   "version": "3.8.5"
  }
 },
 "nbformat": 4,
 "nbformat_minor": 4
}
