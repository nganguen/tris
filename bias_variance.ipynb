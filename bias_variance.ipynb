{
 "cells": [
  {
   "cell_type": "code",
   "execution_count": 73,
   "metadata": {},
   "outputs": [],
   "source": [
    "import pandas as pd\n",
    "import numpy as np\n",
    "import matplotlib.pyplot as plt\n",
    "from sklearn.model_selection import cross_val_score\n",
    "from sklearn.ensemble import RandomForestRegressor\n",
    "from sklearn.linear_model import LinearRegression\n",
    "from sklearn.tree import DecisionTreeRegressor\n",
    "from sklearn.model_selection import train_test_split\n",
    "from sklearn.datasets import load_boston\n",
    "from mlxtend.evaluate import bias_variance_decomp\n",
    "from prettytable import PrettyTable"
   ]
  },
  {
   "cell_type": "code",
   "execution_count": 65,
   "metadata": {},
   "outputs": [
    {
     "data": {
      "text/plain": [
       "(506, 13)"
      ]
     },
     "execution_count": 65,
     "metadata": {},
     "output_type": "execute_result"
    }
   ],
   "source": [
    "boston = load_boston()\n",
    "X = boston[\"data\"] \n",
    "y = boston[\"target\"]\n",
    "X.shape"
   ]
  },
  {
   "cell_type": "code",
   "execution_count": 66,
   "metadata": {},
   "outputs": [],
   "source": [
    "X_train, X_test, y_train, y_test = train_test_split(X, y, test_size=0.3, random_state=0)"
   ]
  },
  {
   "cell_type": "code",
   "execution_count": 67,
   "metadata": {},
   "outputs": [
    {
     "data": {
      "text/plain": [
       "LinearRegression()"
      ]
     },
     "execution_count": 67,
     "metadata": {},
     "output_type": "execute_result"
    }
   ],
   "source": [
    "linearRegressor = LinearRegression()\n",
    "linearRegressor.fit(X_train, y_train)"
   ]
  },
  {
   "cell_type": "code",
   "execution_count": 68,
   "metadata": {},
   "outputs": [
    {
     "data": {
      "text/plain": [
       "0.7645451026942549"
      ]
     },
     "execution_count": 68,
     "metadata": {},
     "output_type": "execute_result"
    }
   ],
   "source": [
    "linearRegressor.score(X_train, y_train)"
   ]
  },
  {
   "cell_type": "code",
   "execution_count": 72,
   "metadata": {},
   "outputs": [
    {
     "name": "stdout",
     "output_type": "stream",
     "text": [
      "Точность модели LinearRegression: 0.624\n"
     ]
    }
   ],
   "source": [
    "print('Точность модели LinearRegression: {:.3f}'.format(linearRegressor.score(X_test, y_test)))"
   ]
  },
  {
   "cell_type": "code",
   "execution_count": 70,
   "metadata": {},
   "outputs": [
    {
     "name": "stdout",
     "output_type": "stream",
     "text": [
      "LinearRegression\n",
      "MSE: 28.558\n",
      "Bias: 27.111\n",
      "Variance: 1.446\n"
     ]
    }
   ],
   "source": [
    "mse, bias, var = bias_variance_decomp(linearRegressor, X_train, y_train, X_test, y_test, \n",
    "                                      loss='mse')\n",
    "print(\"LinearRegression\")\n",
    "print('MSE: %.3f' % mse)\n",
    "print('Bias: %.3f' % bias)\n",
    "print('Variance: %.3f' % var)"
   ]
  },
  {
   "cell_type": "code",
   "execution_count": 54,
   "metadata": {},
   "outputs": [
    {
     "data": {
      "text/plain": [
       "RandomForestRegressor()"
      ]
     },
     "execution_count": 54,
     "metadata": {},
     "output_type": "execute_result"
    }
   ],
   "source": [
    "randomForestRegressor = RandomForestRegressor()\n",
    "randomForestRegressor.fit(X_train, y_train)"
   ]
  },
  {
   "cell_type": "code",
   "execution_count": 55,
   "metadata": {},
   "outputs": [
    {
     "data": {
      "text/plain": [
       "0.9833679624537538"
      ]
     },
     "execution_count": 55,
     "metadata": {},
     "output_type": "execute_result"
    }
   ],
   "source": [
    "randomForestRegressor.score(X_train, y_train)"
   ]
  },
  {
   "cell_type": "code",
   "execution_count": 56,
   "metadata": {},
   "outputs": [
    {
     "data": {
      "text/plain": [
       "0.8314770523309185"
      ]
     },
     "execution_count": 56,
     "metadata": {},
     "output_type": "execute_result"
    }
   ],
   "source": [
    "print('Точность модели RandomForestRegressor: {:.3f}'.format(randomForestRegressor.score(X_test, y_test)))"
   ]
  },
  {
   "cell_type": "code",
   "execution_count": 57,
   "metadata": {},
   "outputs": [
    {
     "name": "stdout",
     "output_type": "stream",
     "text": [
      "MSE: 18.368\n",
      "Bias: 16.527\n",
      "Variance: 1.841\n"
     ]
    }
   ],
   "source": [
    "mse, bias, var = bias_variance_decomp(randomForestRegressor, X_train, y_train, \n",
    "                                      X_test, y_test, loss='mse')\n",
    "print(\"RandomForestRegressor\")\n",
    "print('MSE: %.3f' % mse)\n",
    "print('Bias: %.3f' % bias)\n",
    "print('Variance: %.3f' % var)"
   ]
  },
  {
   "cell_type": "code",
   "execution_count": 58,
   "metadata": {},
   "outputs": [
    {
     "data": {
      "text/plain": [
       "array([0.80213956, 0.44009212, 0.30024896, 0.7688789 , 0.71461678])"
      ]
     },
     "execution_count": 58,
     "metadata": {},
     "output_type": "execute_result"
    }
   ],
   "source": [
    "decisionTreeRegressor = DecisionTreeRegressor()\n",
    "decisionTreeRegressor.fit(X_train, y_train)\n",
    "cross_val_score(decisionTreeRegressor, X_train, y_train)"
   ]
  },
  {
   "cell_type": "code",
   "execution_count": 59,
   "metadata": {},
   "outputs": [
    {
     "data": {
      "text/plain": [
       "0.6550729203754833"
      ]
     },
     "execution_count": 59,
     "metadata": {},
     "output_type": "execute_result"
    }
   ],
   "source": [
    "decisionTreeRegressor.score(X_test, y_test)"
   ]
  },
  {
   "cell_type": "code",
   "execution_count": 60,
   "metadata": {},
   "outputs": [
    {
     "name": "stdout",
     "output_type": "stream",
     "text": [
      "MSE: 27.521\n",
      "Bias: 14.818\n",
      "Variance: 12.703\n"
     ]
    }
   ],
   "source": [
    "mse, bias, var = bias_variance_decomp(decisionTreeRegressor, X_train, y_train, \n",
    "                                      X_test, y_test, loss='mse')\n",
    "print(\"DecisionTreeRegressor\")\n",
    "print('MSE: %.3f' % mse)\n",
    "print('Bias: %.3f' % bias)\n",
    "print('Variance: %.3f' % var)"
   ]
  },
  {
   "cell_type": "code",
   "execution_count": 75,
   "metadata": {},
   "outputs": [],
   "source": [
    "models = {}\n",
    "models['LinearRegression'] = linearRegressor\n",
    "models['RandomForest'] = randomForestRegressor\n",
    "models['DecisionTree'] = decisionTreeRegressor"
   ]
  },
  {
   "cell_type": "code",
   "execution_count": 78,
   "metadata": {},
   "outputs": [
    {
     "name": "stdout",
     "output_type": "stream",
     "text": [
      "+------------------+--------+--------+----------+-----------+\n",
      "|      Model       |  MSE   |  Bias  | Variance | Accurancy |\n",
      "+------------------+--------+--------+----------+-----------+\n",
      "| LinearRegression | 28.812 | 27.317 |  1.495   |   0.644   |\n",
      "|   RandomForest   | 18.638 | 16.776 |  1.862   |   0.753   |\n",
      "|   DecisionTree   | 28.194 | 14.599 |  13.595  |   0.665   |\n",
      "+------------------+--------+--------+----------+-----------+\n"
     ]
    }
   ],
   "source": [
    "test_table = PrettyTable()\n",
    "test_table.field_names = [\"Model\", \"MSE\", \"Bias\", \"Variance\", \"Accurancy\"]\n",
    "for modelname, model in models.items():\n",
    "    mse, bias, var = bias_variance_decomp(model, X_train, y_train, \n",
    "                                      X_test, y_test, loss='mse')\n",
    "    accuracy = model.score(X_test, y_test)\n",
    "    test_table.add_row([modelname,round(mse, 3), round(bias, 3), round(var, 3), round(accuracy, 3)])\n",
    "print(test_table)"
   ]
  },
  {
   "cell_type": "code",
   "execution_count": null,
   "metadata": {},
   "outputs": [],
   "source": []
  }
 ],
 "metadata": {
  "kernelspec": {
   "display_name": "Python 3",
   "language": "python",
   "name": "python3"
  },
  "language_info": {
   "codemirror_mode": {
    "name": "ipython",
    "version": 3
   },
   "file_extension": ".py",
   "mimetype": "text/x-python",
   "name": "python",
   "nbconvert_exporter": "python",
   "pygments_lexer": "ipython3",
   "version": "3.8.5"
  }
 },
 "nbformat": 4,
 "nbformat_minor": 4
}
